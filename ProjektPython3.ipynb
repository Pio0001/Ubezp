{
 "cells": [
  {
   "cell_type": "markdown",
   "metadata": {},
   "source": [
    "# Projekt Python"
   ]
  },
  {
   "cell_type": "code",
   "execution_count": 11,
   "metadata": {},
   "outputs": [
    {
     "data": {
      "image/png": "[encoded data removed]",
      "text/plain": [
       "<Figure size 432x288 with 1 Axes>"
      ]
     },
     "metadata": {
      "needs_background": "light"
     },
     "output_type": "display_data"
    },
    {
     "data": {
      "image/png": "[encoded data removed]",
      "text/plain": [
       "<Figure size 432x288 with 1 Axes>"
      ]
     },
     "metadata": {
      "needs_background": "light"
     },
     "output_type": "display_data"
    },
    {
     "name": "stdout",
     "output_type": "stream",
     "text": [
      "1      99\n",
      "2     518\n",
      "7     591\n",
      "6    1538\n",
      "3    1637\n",
      "5    2764\n",
      "4    2853\n",
      "Name: l_lat_bezszk, dtype: int64\n",
      "[7, 5, 6]\n",
      "[0.6, 0.7, 0.4]\n"
     ]
    }
   ],
   "source": [
    "#%%\n",
    "import numpy.random as rd\n",
    "import numpy as np\n",
    "import matplotlib.pyplot as plt\n",
    "import pandas as pd\n",
    "\n",
    "l_lat_bezszk_taryfa = {            # lat bezszk : taryfa\n",
    "  0 : 1,\n",
    "  1 : 0.9,\n",
    "  2 : 0.8,\n",
    "  3 : 0.7,\n",
    "  4 : 0.6,\n",
    "  5 : 0.5,\n",
    "  6 : 0.4,\n",
    "  7 : 0.3\n",
    "}\n",
    "l_lat_bezszk_taryfa\n",
    "\n",
    "# rozkładzik do parametru liczba lat bezszkodowych\n",
    "rd.seed(0)\n",
    "mu, sigma = 4, 1.3 # mean and standard deviation\n",
    "rozkladzik = rd.normal(mu, sigma, 10000)\n",
    "plt.hist(rozkladzik,bins=30) \n",
    "plt.show()\n",
    "\n",
    "type (rozkladzik)\n",
    "\n",
    "zbandowane = []\n",
    "type(zbandowane)\n",
    "\n",
    "for x in rozkladzik:\n",
    "    if x <= 1 : zbandowane.append(1)\n",
    "    elif x <= 2 : zbandowane.append(2)\n",
    "    elif x <= 3 : zbandowane.append(3)\n",
    "    elif x <= 4 : zbandowane.append(4)\n",
    "    elif x <= 5 : zbandowane.append(5)\n",
    "    elif x <= 6 : zbandowane.append(6)\n",
    "    elif x > 6 : zbandowane.append(7)\n",
    "\n",
    "# finalna tabelka\n",
    "zbandowane\n",
    "plt.hist(zbandowane,bins=30) \n",
    "plt.show()\n",
    "\n",
    "\n",
    "df = pd.DataFrame(zbandowane, columns=[\"l_lat_bezszk\"]).reset_index()\n",
    "type(df)\n",
    "\n",
    "# niestety nie sortuje.. :(\n",
    "print(df['l_lat_bezszk'].value_counts().sort_values(\"index\"))\n",
    "\n",
    "#tworze mnoznik dla liczby lat bezszkodowych dla kazdego wiersza\n",
    "l_lat_bezszk_mnoznik = []\n",
    "\n",
    "for i in zbandowane:\n",
    "    l_lat_bezszk_mnoznik.append(l_lat_bezszk_taryfa[zbandowane[i]])\n",
    "\n",
    "# filanla tabelka\n",
    "l_lat_bezszk_mnoznik\n",
    "print(zbandowane[0:3])\n",
    "print(l_lat_bezszk_mnoznik[0:3])\n"
   ]
  },
  {
   "cell_type": "code",
   "execution_count": null,
   "metadata": {},
   "outputs": [],
   "source": []
  }
 ],
 "metadata": {
  "kernelspec": {
   "display_name": "Python 3",
   "language": "python",
   "name": "python3"
  },
  "language_info": {
   "codemirror_mode": {
    "name": "ipython",
    "version": 3
   },
   "file_extension": ".py",
   "mimetype": "text/x-python",
   "name": "python",
   "nbconvert_exporter": "python",
   "pygments_lexer": "ipython3",
   "version": "3.7.1"
  }
 },
 "nbformat": 4,
 "nbformat_minor": 2
}
