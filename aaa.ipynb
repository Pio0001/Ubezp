{
 "cells": [
  {
   "cell_type": "markdown",
   "metadata": {},
   "source": [
    "# Projekt Python"
   ]
  },
  {
   "cell_type": "code",
   "execution_count": 5,
   "metadata": {},
   "outputs": [
    {
     "data": {
      "image/png": "[encoded data removed]",
      "text/plain": [
       "<Figure size 432x288 with 1 Axes>"
      ]
     },
     "metadata": {
      "needs_background": "light"
     },
     "output_type": "display_data"
    },
    {
     "data": {
      "image/png": "[encoded data removed]",
      "text/plain": [
       "<Figure size 432x288 with 1 Axes>"
      ]
     },
     "metadata": {
      "needs_background": "light"
     },
     "output_type": "display_data"
    },
    {
     "name": "stdout",
     "output_type": "stream",
     "text": [
      "Test KS KstestResult(statistic=0.016488541498851428, pvalue=0.9979486194590917)\n",
      "(-2510.0722885635805, 446)\n",
      "(-1497.7837413391771, 419)\n",
      "(-12801.869048970373, 423)\n"
     ]
    }
   ],
   "source": [
    "\n",
    "l_szkod = {            # liczba szkod : liczba polis\n",
    "  0 : 3437,\n",
    "  1 : 522,\n",
    "  2 : 40,\n",
    "  3 : 2,\n",
    "  4 : 0,\n",
    "  5 : 0\n",
    "}\n",
    "\n",
    "import csv\n",
    "import urllib.request as ul\n",
    "import codecs\n",
    "import matplotlib.pyplot as plt\n",
    "import scipy as sc\n",
    "from scipy.stats.stats import kstest\n",
    "\n",
    "srednia_l_szkod = sum( [x*y for x,y in l_szkod.items()] )/sum(l_szkod.values())\n",
    "\n",
    "szkody = []\n",
    "response = ul.urlopen('http://szufel.pl/pliki/szkody.txt')\n",
    "data = csv.reader (codecs.iterdecode(response, 'utf-8') ,delimiter=\";\")\n",
    "for row in data:\n",
    "        szkody.append(int(row[1]))\n",
    "plt.hist(szkody,bins=20)\n",
    "plt.show() \n",
    "\n",
    "szkody_ln = sc.log(szkody)\n",
    "plt.hist(szkody_ln,bins=20)\n",
    "plt.show()        \n",
    "print(\"Test KS\",kstest(szkody_ln, sc.stats.norm.cdf, args=(sc.mean(szkody_ln),sc.std(szkody_ln))))\n",
    "#H0 â€“ rozkĹ‚ad normalny â€“ p-value=0.99 brak podstaw do odrzucenia H0\n",
    "#cdf - cumulative density function - dystrybuanta\n",
    "\n",
    "sr_szkoda_ln = sc.mean(szkody_ln)\n",
    "std_szkoda_ln = sc.std(szkody_ln)\n",
    "\n",
    "l_lat_bezszk_taryfa = {            # lat bezszk : taryfa\n",
    "  0 : 1,\n",
    "  1 : 0.9,\n",
    "  2 : 0.8,\n",
    "  3 : 0.7,\n",
    "  4 : 0.6,\n",
    "  5 : 0.5,\n",
    "  6 : 0.4,\n",
    "  7 : 0.3\n",
    "}\n",
    "\n",
    "import numpy.random as rd\n",
    "import numpy as np\n",
    "\n",
    "def symuluj_ubezpieczenia(l_klientow,nadwyzka,skladka,srednia_l_szkod,sr_szkoda_ln,std_szkoda_ln):\n",
    "    daty_umow = rd.randint(0,365, l_klientow)\n",
    "    kal_l_wplat = np.zeros(365+365+30, dtype=\"int\")\n",
    "    for dataUmowy in daty_umow:\n",
    "        kal_l_wplat[dataUmowy] += 1  \n",
    "    l_szkod_k = rd.poisson(srednia_l_szkod,l_klientow)    \n",
    "    kal_l_wyplat = np.zeros(365+365+30, dtype=\"int\") #365 to zapas\n",
    "    for k in range(l_klientow):\n",
    "        for s in range(l_szkod_k[k]):\n",
    "            #dla kazdej szkody ustal date wyplaty\n",
    "            data_wyp = daty_umow[k]+rd.randint(0,365)+rd.randint(15,30)\n",
    "            kal_l_wyplat[data_wyp] += 1            \n",
    "    for dzien in range(len(kal_l_wyplat)):\n",
    "        nadwyzka += kal_l_wplat[dzien]*skladka*l_lat_bezszk_taryfa[rd.randint(0,8)]\n",
    "        l_wyplat = kal_l_wyplat[dzien]\n",
    "        odszkodowania = 0 \n",
    "        if l_wyplat>0:\n",
    "            odszkodowania=np.sum(rd.lognormal(sr_szkoda_ln,std_szkoda_ln,l_wyplat))\n",
    "        if (nadwyzka < odszkodowania):\n",
    "           return (nadwyzka-odszkodowania, dzien)\n",
    "        nadwyzka -= odszkodowania\n",
    "    return (nadwyzka, dzien)\n",
    "\n",
    "\n",
    "sr_szkoda_ln    = 7.9953648143576634\n",
    "std_szkoda_ln   = 0.9644771368064744\n",
    "srednia_l_szkod = 0.1519620094976256\n",
    "\n",
    "print(symuluj_ubezpieczenia(10000,10000,700,srednia_l_szkod,sr_szkoda_ln,std_szkoda_ln))\n",
    "print(symuluj_ubezpieczenia(10000,10000,700,srednia_l_szkod,sr_szkoda_ln,std_szkoda_ln))\n",
    "print(symuluj_ubezpieczenia(10000,10000,700,srednia_l_szkod,sr_szkoda_ln,std_szkoda_ln))\n",
    "\n",
    "\n"
   ]
  },
  {
   "cell_type": "code",
   "execution_count": null,
   "metadata": {},
   "outputs": [],
   "source": []
  }
 ],
 "metadata": {
  "kernelspec": {
   "display_name": "Python 3",
   "language": "python",
   "name": "python3"
  },
  "language_info": {
   "codemirror_mode": {
    "name": "ipython",
    "version": 3
   },
   "file_extension": ".py",
   "mimetype": "text/x-python",
   "name": "python",
   "nbconvert_exporter": "python",
   "pygments_lexer": "ipython3",
   "version": "3.7.1"
  }
 },
 "nbformat": 4,
 "nbformat_minor": 2
}
