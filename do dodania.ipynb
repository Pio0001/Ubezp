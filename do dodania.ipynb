{
 "cells": [
  {
   "cell_type": "code",
   "execution_count": null,
   "metadata": {},
   "outputs": [],
   "source": [
    "\n",
    "# %%\n",
    "with open(\"C:\\\\temp\\\\wynik\"+str(blok)+\".txt\",\"w\") as f:\n",
    "    cs = csv.writer(f,delimiter=\"\\t\",quotechar=None)    \n",
    "    for skladka in range(500+blok*100,500+(blok+1)*100,25):\n",
    "        rd.seed(0)\n",
    "        wyniki=[symuluj_ubezpieczenia(10000,10000,\\\n",
    "                skladka,srednia_l_szkod,sr_szkoda_ln,std_szkoda_ln) \\\n",
    "                for i in range(100)]\n",
    "        srednia = np.mean([x[0] for x in wyniki if x[0] >= 0])\n",
    "        liczba_ruin = np.sum([1 for x in wyniki if x[0] < 0])\n",
    "        sredni_dzien_ruiny = np.mean([x[1] for x in wyniki if x[0] < 0])            \n",
    "        cs.writerow([skladka,srednia,liczba_ruin,sredni_dzien_ruiny])\n",
    "\n",
    "# %%\n",
    "for blok in range (2,11):\n",
    "    with open(\"C:\\\\temp\\\\wynik\"+str(blok)+\".txt\",\"w\", newline=\"\") as f:\n",
    "        cs = csv.writer(f,delimiter=\"\\t\",quotechar=None)    \n",
    "        for skladka in range(500+blok*100,500+(blok+1)*100,25):\n",
    "            rd.seed(0)\n",
    "            wyniki=[symuluj_ubezpieczenia(10000,10000,\\\n",
    "                    skladka,srednia_l_szkod,sr_szkoda_ln,std_szkoda_ln) \\\n",
    "                    for i in range(100)]\n",
    "            ##print(wyniki)\n",
    "            srednia = np.mean([x[0] for x in wyniki if x[0] >= 0])\n",
    "            liczba_ruin = np.sum([1 for x in wyniki if x[0] < 0])\n",
    "            sredni_dzien_ruiny = np.mean([x[1] for x in wyniki if x[0] < 0])            \n",
    "            cs.writerow([skladka,srednia,liczba_ruin,sredni_dzien_ruiny])\n",
    "\n",
    "# %%\n",
    "\n",
    "\n",
    "if __name__ == '__main__':\n",
    "    import multiprocessing\n",
    "    PROCESSES = 4\n",
    "    pool = multiprocessing.Pool(processes=PROCESSES)\n",
    "    print(\"Created a pool of\",PROCESSES,\" processes\")\n",
    "    pool.map(symuluj, range(2,14))\n",
    "    pool.terminate()\n",
    "\n"
   ]
  }
 ],
 "metadata": {
  "kernelspec": {
   "display_name": "Python 3",
   "language": "python",
   "name": "python3"
  },
  "language_info": {
   "codemirror_mode": {
    "name": "ipython",
    "version": 3
   },
   "file_extension": ".py",
   "mimetype": "text/x-python",
   "name": "python",
   "nbconvert_exporter": "python",
   "pygments_lexer": "ipython3",
   "version": "3.7.1"
  }
 },
 "nbformat": 4,
 "nbformat_minor": 2
}
