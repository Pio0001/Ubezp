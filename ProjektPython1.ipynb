{
 "cells": [
  {
   "cell_type": "markdown",
   "metadata": {},
   "source": [
    "# Projekt Python"
   ]
  },
  {
   "cell_type": "code",
   "execution_count": 2,
   "metadata": {},
   "outputs": [
    {
     "data": {
      "image/png": "[encoded data removed]",
      "text/plain": [
       "<Figure size 432x288 with 1 Axes>"
      ]
     },
     "metadata": {
      "needs_background": "light"
     },
     "output_type": "display_data"
    }
   ],
   "source": [
    "#%%\n",
    "import numpy.random as rd\n",
    "import numpy as np\n",
    "import matplotlib.pyplot as plt\n",
    "import pandas as pd\n",
    "\n",
    "l_lat_bezszk_taryfa = {            # lat bezszk : taryfa\n",
    "  0 : 1,\n",
    "  1 : 0.9,\n",
    "  2 : 0.8,\n",
    "  3 : 0.7,\n",
    "  4 : 0.6,\n",
    "  5 : 0.5,\n",
    "  6 : 0.4,\n",
    "  7 : 0.3\n",
    "}\n",
    "l_lat_bezszk_taryfa\n",
    "\n",
    "# rozkładzik do parametru liczba lat bezszkodowych\n",
    "rd.seed(0)\n",
    "mu, sigma = 4, 1.3 # mean and standard deviation\n",
    "rozkladzik = rd.normal(mu, sigma, 10000)\n",
    "plt.hist(rozkladzik,bins=30) \n",
    "plt.show()\n",
    "rozkladzik\n",
    "# TO DOOOOO teraz musze to zbandować do przedziałów w taryfie]\n",
    "rozkladzik [0:4]\n",
    "type (rozkladzik)\n",
    "rozkladzik2 = []\n"
   ]
  },
  {
   "cell_type": "code",
   "execution_count": null,
   "metadata": {},
   "outputs": [],
   "source": []
  }
 ],
 "metadata": {
  "kernelspec": {
   "display_name": "Python 3",
   "language": "python",
   "name": "python3"
  },
  "language_info": {
   "codemirror_mode": {
    "name": "ipython",
    "version": 3
   },
   "file_extension": ".py",
   "mimetype": "text/x-python",
   "name": "python",
   "nbconvert_exporter": "python",
   "pygments_lexer": "ipython3",
   "version": "3.7.1"
  }
 },
 "nbformat": 4,
 "nbformat_minor": 2
}
